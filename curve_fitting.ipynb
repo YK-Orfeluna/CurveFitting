{
 "cells": [
  {
   "cell_type": "markdown",
   "metadata": {},
   "source": [
    "# Scipyのcurve_fitを試して見る"
   ]
  },
  {
   "cell_type": "code",
   "execution_count": 1,
   "metadata": {
    "collapsed": true
   },
   "outputs": [],
   "source": [
    "# curve_fitをscipyからimportする\n",
    "import numpy as np\n",
    "from scipy.optimize import curve_fit"
   ]
  },
  {
   "cell_type": "markdown",
   "metadata": {},
   "source": [
    "## 1次関数にfitさせてみる"
   ]
  },
  {
   "cell_type": "code",
   "execution_count": 6,
   "metadata": {
    "collapsed": true
   },
   "outputs": [],
   "source": [
    "# fitするもとの関数を定義する\n",
    "# 1次関数なので，関数はy=ax+bの形式となるようにする\n",
    "def f(x, a, b) :\n",
    "    out = a * x + b\n",
    "    return out"
   ]
  },
  {
   "cell_type": "code",
   "execution_count": 7,
   "metadata": {
    "collapsed": true
   },
   "outputs": [],
   "source": [
    "# データを設定する\n",
    "xdata = np.array([0, 2, 4, 6, 8, 10, 12, 14, 16, 18, 20], dtype=np.uint64)\n",
    "ydata = np.array([8, 9, 10, 11, 12, 13, 14, 15, 16, 17, 18], dtype=np.uint64)"
   ]
  },
  {
   "cell_type": "code",
   "execution_count": 8,
   "metadata": {},
   "outputs": [
    {
     "name": "stdout",
     "output_type": "stream",
     "text": [
      "a=0.5, b=8.0\n"
     ]
    }
   ],
   "source": [
    "# fitさせる\n",
    "popt, pcov = curve_fit(f, xdata, ydata)\n",
    "print(\"a=%s, b=%s\" %tuple(popt))"
   ]
  },
  {
   "cell_type": "code",
   "execution_count": 9,
   "metadata": {},
   "outputs": [
    {
     "data": {
      "image/png": "[encoded data removed]",
      "text/plain": [
       "<matplotlib.figure.Figure at 0x1965b914a90>"
      ]
     },
     "metadata": {},
     "output_type": "display_data"
    }
   ],
   "source": [
    "# plotする\n",
    "import matplotlib.pyplot as plt\n",
    "%matplotlib inline\n",
    "\n",
    "x = np.linspace(-30, 30, 100)\n",
    "y = f(x, *popt)\n",
    "\n",
    "plt.figure()\n",
    "plt.plot(xdata, ydata, \"ro-\", label=\"learn data\", ms=4)\n",
    "plt.plot(x, y, color=\"blue\", label=\"fitting curve\")\n",
    "\n",
    "plt.legend()\n",
    "plt.show()"
   ]
  }
 ],
 "metadata": {
  "kernelspec": {
   "display_name": "Python 3",
   "language": "python",
   "name": "python3"
  },
  "language_info": {
   "codemirror_mode": {
    "name": "ipython",
    "version": 3
   },
   "file_extension": ".py",
   "mimetype": "text/x-python",
   "name": "python",
   "nbconvert_exporter": "python",
   "pygments_lexer": "ipython3",
   "version": "3.6.4"
  }
 },
 "nbformat": 4,
 "nbformat_minor": 2
}
